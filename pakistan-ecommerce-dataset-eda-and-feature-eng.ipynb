{
 "cells": [
  {
   "cell_type": "code",
   "execution_count": 1,
   "id": "7d23bf4c",
   "metadata": {
    "_cell_guid": "b1076dfc-b9ad-4769-8c92-a6c4dae69d19",
    "_uuid": "8f2839f25d086af736a60e9eeb907d3b93b6e0e5",
    "execution": {
     "iopub.execute_input": "2022-06-01T07:36:18.071583Z",
     "iopub.status.busy": "2022-06-01T07:36:18.071086Z",
     "iopub.status.idle": "2022-06-01T07:36:18.086698Z",
     "shell.execute_reply": "2022-06-01T07:36:18.085898Z"
    },
    "papermill": {
     "duration": 0.032968,
     "end_time": "2022-06-01T07:36:18.090109",
     "exception": false,
     "start_time": "2022-06-01T07:36:18.057141",
     "status": "completed"
    },
    "tags": []
   },
   "outputs": [
    {
     "name": "stdout",
     "output_type": "stream",
     "text": [
      "/kaggle/input/pakistans-largest-ecommerce-dataset/Pakistan Largest Ecommerce Dataset.csv\n"
     ]
    }
   ],
   "source": [
    "# This Python 3 environment comes with many helpful analytics libraries installed\n",
    "# It is defined by the kaggle/python Docker image: https://github.com/kaggle/docker-python\n",
    "# For example, here's several helpful packages to load\n",
    "\n",
    "\n",
    "# Input data files are available in the read-only \"../input/\" directory\n",
    "# For example, running this (by clicking run or pressing Shift+Enter) will list all files under the input directory\n",
    "\n",
    "import os\n",
    "for dirname, _, filenames in os.walk('/kaggle/input'):\n",
    "    for filename in filenames:\n",
    "        print(os.path.join(dirname, filename))\n",
    "\n",
    "# You can write up to 20GB to the current directory (/kaggle/working/) that gets preserved as output when you create a version using \"Save & Run All\" \n",
    "# You can also write temporary files to /kaggle/temp/, but they won't be saved outside of the current session"
   ]
  },
  {
   "cell_type": "code",
   "execution_count": 2,
   "id": "e5d67a66",
   "metadata": {
    "execution": {
     "iopub.execute_input": "2022-06-01T07:36:18.116206Z",
     "iopub.status.busy": "2022-06-01T07:36:18.115445Z",
     "iopub.status.idle": "2022-06-01T07:36:18.119772Z",
     "shell.execute_reply": "2022-06-01T07:36:18.118983Z"
    },
    "papermill": {
     "duration": 0.018788,
     "end_time": "2022-06-01T07:36:18.121765",
     "exception": false,
     "start_time": "2022-06-01T07:36:18.102977",
     "status": "completed"
    },
    "tags": []
   },
   "outputs": [],
   "source": [
    "import numpy as np # linear algebra\n",
    "import pandas as pd # data processing, CSV file I/O (e.g. pd.read_csv)"
   ]
  },
  {
   "cell_type": "code",
   "execution_count": 3,
   "id": "b0368c62",
   "metadata": {
    "execution": {
     "iopub.execute_input": "2022-06-01T07:36:18.146523Z",
     "iopub.status.busy": "2022-06-01T07:36:18.145846Z",
     "iopub.status.idle": "2022-06-01T07:36:22.933679Z",
     "shell.execute_reply": "2022-06-01T07:36:22.932787Z"
    },
    "papermill": {
     "duration": 4.804293,
     "end_time": "2022-06-01T07:36:22.937487",
     "exception": false,
     "start_time": "2022-06-01T07:36:18.133194",
     "status": "completed"
    },
    "tags": []
   },
   "outputs": [
    {
     "name": "stderr",
     "output_type": "stream",
     "text": [
      "/opt/conda/lib/python3.7/site-packages/IPython/core/interactiveshell.py:3552: DtypeWarning: Columns (1,2,3,7,8,9,11,12,13,14,17,18,19) have mixed types.Specify dtype option on import or set low_memory=False.\n",
      "  exec(code_obj, self.user_global_ns, self.user_ns)\n"
     ]
    },
    {
     "data": {
      "text/plain": [
       "(1048575, 26)"
      ]
     },
     "execution_count": 3,
     "metadata": {},
     "output_type": "execute_result"
    }
   ],
   "source": [
    "dataset = pd.read_csv('../input/pakistans-largest-ecommerce-dataset/Pakistan Largest Ecommerce Dataset.csv')\n",
    "dataset.shape"
   ]
  },
  {
   "cell_type": "code",
   "execution_count": 4,
   "id": "95830834",
   "metadata": {
    "execution": {
     "iopub.execute_input": "2022-06-01T07:36:22.963136Z",
     "iopub.status.busy": "2022-06-01T07:36:22.962727Z",
     "iopub.status.idle": "2022-06-01T07:36:23.001476Z",
     "shell.execute_reply": "2022-06-01T07:36:23.000268Z"
    },
    "papermill": {
     "duration": 0.054442,
     "end_time": "2022-06-01T07:36:23.003893",
     "exception": false,
     "start_time": "2022-06-01T07:36:22.949451",
     "status": "completed"
    },
    "tags": []
   },
   "outputs": [
    {
     "data": {
      "text/html": [
       "<div>\n",
       "<style scoped>\n",
       "    .dataframe tbody tr th:only-of-type {\n",
       "        vertical-align: middle;\n",
       "    }\n",
       "\n",
       "    .dataframe tbody tr th {\n",
       "        vertical-align: top;\n",
       "    }\n",
       "\n",
       "    .dataframe thead th {\n",
       "        text-align: right;\n",
       "    }\n",
       "</style>\n",
       "<table border=\"1\" class=\"dataframe\">\n",
       "  <thead>\n",
       "    <tr style=\"text-align: right;\">\n",
       "      <th></th>\n",
       "      <th>item_id</th>\n",
       "      <th>status</th>\n",
       "      <th>created_at</th>\n",
       "      <th>sku</th>\n",
       "      <th>price</th>\n",
       "      <th>qty_ordered</th>\n",
       "      <th>grand_total</th>\n",
       "      <th>increment_id</th>\n",
       "      <th>category_name_1</th>\n",
       "      <th>sales_commission_code</th>\n",
       "      <th>...</th>\n",
       "      <th>Month</th>\n",
       "      <th>Customer Since</th>\n",
       "      <th>M-Y</th>\n",
       "      <th>FY</th>\n",
       "      <th>Customer ID</th>\n",
       "      <th>Unnamed: 21</th>\n",
       "      <th>Unnamed: 22</th>\n",
       "      <th>Unnamed: 23</th>\n",
       "      <th>Unnamed: 24</th>\n",
       "      <th>Unnamed: 25</th>\n",
       "    </tr>\n",
       "  </thead>\n",
       "  <tbody>\n",
       "    <tr>\n",
       "      <th>0</th>\n",
       "      <td>211131.0</td>\n",
       "      <td>complete</td>\n",
       "      <td>7/1/2016</td>\n",
       "      <td>kreations_YI 06-L</td>\n",
       "      <td>1950.0</td>\n",
       "      <td>1.0</td>\n",
       "      <td>1950.0</td>\n",
       "      <td>100147443</td>\n",
       "      <td>Women's Fashion</td>\n",
       "      <td>\\N</td>\n",
       "      <td>...</td>\n",
       "      <td>7.0</td>\n",
       "      <td>2016-7</td>\n",
       "      <td>7-2016</td>\n",
       "      <td>FY17</td>\n",
       "      <td>1.0</td>\n",
       "      <td>NaN</td>\n",
       "      <td>NaN</td>\n",
       "      <td>NaN</td>\n",
       "      <td>NaN</td>\n",
       "      <td>NaN</td>\n",
       "    </tr>\n",
       "    <tr>\n",
       "      <th>1</th>\n",
       "      <td>211133.0</td>\n",
       "      <td>canceled</td>\n",
       "      <td>7/1/2016</td>\n",
       "      <td>kcc_Buy 2 Frey Air Freshener &amp; Get 1 Kasual Bo...</td>\n",
       "      <td>240.0</td>\n",
       "      <td>1.0</td>\n",
       "      <td>240.0</td>\n",
       "      <td>100147444</td>\n",
       "      <td>Beauty &amp; Grooming</td>\n",
       "      <td>\\N</td>\n",
       "      <td>...</td>\n",
       "      <td>7.0</td>\n",
       "      <td>2016-7</td>\n",
       "      <td>7-2016</td>\n",
       "      <td>FY17</td>\n",
       "      <td>2.0</td>\n",
       "      <td>NaN</td>\n",
       "      <td>NaN</td>\n",
       "      <td>NaN</td>\n",
       "      <td>NaN</td>\n",
       "      <td>NaN</td>\n",
       "    </tr>\n",
       "    <tr>\n",
       "      <th>2</th>\n",
       "      <td>211134.0</td>\n",
       "      <td>canceled</td>\n",
       "      <td>7/1/2016</td>\n",
       "      <td>Ego_UP0017-999-MR0</td>\n",
       "      <td>2450.0</td>\n",
       "      <td>1.0</td>\n",
       "      <td>2450.0</td>\n",
       "      <td>100147445</td>\n",
       "      <td>Women's Fashion</td>\n",
       "      <td>\\N</td>\n",
       "      <td>...</td>\n",
       "      <td>7.0</td>\n",
       "      <td>2016-7</td>\n",
       "      <td>7-2016</td>\n",
       "      <td>FY17</td>\n",
       "      <td>3.0</td>\n",
       "      <td>NaN</td>\n",
       "      <td>NaN</td>\n",
       "      <td>NaN</td>\n",
       "      <td>NaN</td>\n",
       "      <td>NaN</td>\n",
       "    </tr>\n",
       "    <tr>\n",
       "      <th>3</th>\n",
       "      <td>211135.0</td>\n",
       "      <td>complete</td>\n",
       "      <td>7/1/2016</td>\n",
       "      <td>kcc_krone deal</td>\n",
       "      <td>360.0</td>\n",
       "      <td>1.0</td>\n",
       "      <td>60.0</td>\n",
       "      <td>100147446</td>\n",
       "      <td>Beauty &amp; Grooming</td>\n",
       "      <td>R-FSD-52352</td>\n",
       "      <td>...</td>\n",
       "      <td>7.0</td>\n",
       "      <td>2016-7</td>\n",
       "      <td>7-2016</td>\n",
       "      <td>FY17</td>\n",
       "      <td>4.0</td>\n",
       "      <td>NaN</td>\n",
       "      <td>NaN</td>\n",
       "      <td>NaN</td>\n",
       "      <td>NaN</td>\n",
       "      <td>NaN</td>\n",
       "    </tr>\n",
       "    <tr>\n",
       "      <th>4</th>\n",
       "      <td>211136.0</td>\n",
       "      <td>order_refunded</td>\n",
       "      <td>7/1/2016</td>\n",
       "      <td>BK7010400AG</td>\n",
       "      <td>555.0</td>\n",
       "      <td>2.0</td>\n",
       "      <td>1110.0</td>\n",
       "      <td>100147447</td>\n",
       "      <td>Soghaat</td>\n",
       "      <td>\\N</td>\n",
       "      <td>...</td>\n",
       "      <td>7.0</td>\n",
       "      <td>2016-7</td>\n",
       "      <td>7-2016</td>\n",
       "      <td>FY17</td>\n",
       "      <td>5.0</td>\n",
       "      <td>NaN</td>\n",
       "      <td>NaN</td>\n",
       "      <td>NaN</td>\n",
       "      <td>NaN</td>\n",
       "      <td>NaN</td>\n",
       "    </tr>\n",
       "  </tbody>\n",
       "</table>\n",
       "<p>5 rows × 26 columns</p>\n",
       "</div>"
      ],
      "text/plain": [
       "    item_id          status created_at  \\\n",
       "0  211131.0        complete   7/1/2016   \n",
       "1  211133.0        canceled   7/1/2016   \n",
       "2  211134.0        canceled   7/1/2016   \n",
       "3  211135.0        complete   7/1/2016   \n",
       "4  211136.0  order_refunded   7/1/2016   \n",
       "\n",
       "                                                 sku   price  qty_ordered  \\\n",
       "0                                  kreations_YI 06-L  1950.0          1.0   \n",
       "1  kcc_Buy 2 Frey Air Freshener & Get 1 Kasual Bo...   240.0          1.0   \n",
       "2                                 Ego_UP0017-999-MR0  2450.0          1.0   \n",
       "3                                     kcc_krone deal   360.0          1.0   \n",
       "4                                        BK7010400AG   555.0          2.0   \n",
       "\n",
       "   grand_total increment_id    category_name_1 sales_commission_code  ...  \\\n",
       "0       1950.0    100147443    Women's Fashion                    \\N  ...   \n",
       "1        240.0    100147444  Beauty & Grooming                    \\N  ...   \n",
       "2       2450.0    100147445    Women's Fashion                    \\N  ...   \n",
       "3         60.0    100147446  Beauty & Grooming           R-FSD-52352  ...   \n",
       "4       1110.0    100147447            Soghaat                    \\N  ...   \n",
       "\n",
       "   Month Customer Since     M-Y    FY Customer ID  Unnamed: 21  Unnamed: 22  \\\n",
       "0    7.0         2016-7  7-2016  FY17         1.0          NaN          NaN   \n",
       "1    7.0         2016-7  7-2016  FY17         2.0          NaN          NaN   \n",
       "2    7.0         2016-7  7-2016  FY17         3.0          NaN          NaN   \n",
       "3    7.0         2016-7  7-2016  FY17         4.0          NaN          NaN   \n",
       "4    7.0         2016-7  7-2016  FY17         5.0          NaN          NaN   \n",
       "\n",
       "  Unnamed: 23 Unnamed: 24 Unnamed: 25  \n",
       "0         NaN         NaN         NaN  \n",
       "1         NaN         NaN         NaN  \n",
       "2         NaN         NaN         NaN  \n",
       "3         NaN         NaN         NaN  \n",
       "4         NaN         NaN         NaN  \n",
       "\n",
       "[5 rows x 26 columns]"
      ]
     },
     "execution_count": 4,
     "metadata": {},
     "output_type": "execute_result"
    }
   ],
   "source": [
    "dataset.head()"
   ]
  },
  {
   "cell_type": "code",
   "execution_count": 5,
   "id": "8c073136",
   "metadata": {
    "execution": {
     "iopub.execute_input": "2022-06-01T07:36:23.030614Z",
     "iopub.status.busy": "2022-06-01T07:36:23.029555Z",
     "iopub.status.idle": "2022-06-01T07:36:24.131652Z",
     "shell.execute_reply": "2022-06-01T07:36:24.130079Z"
    },
    "papermill": {
     "duration": 1.118182,
     "end_time": "2022-06-01T07:36:24.134314",
     "exception": false,
     "start_time": "2022-06-01T07:36:23.016132",
     "status": "completed"
    },
    "tags": []
   },
   "outputs": [
    {
     "name": "stdout",
     "output_type": "stream",
     "text": [
      "<class 'pandas.core.frame.DataFrame'>\n",
      "RangeIndex: 1048575 entries, 0 to 1048574\n",
      "Data columns (total 26 columns):\n",
      " #   Column                 Non-Null Count   Dtype  \n",
      "---  ------                 --------------   -----  \n",
      " 0   item_id                584524 non-null  float64\n",
      " 1   status                 584509 non-null  object \n",
      " 2   created_at             584524 non-null  object \n",
      " 3   sku                    584504 non-null  object \n",
      " 4   price                  584524 non-null  float64\n",
      " 5   qty_ordered            584524 non-null  float64\n",
      " 6   grand_total            584524 non-null  float64\n",
      " 7   increment_id           584524 non-null  object \n",
      " 8   category_name_1        584360 non-null  object \n",
      " 9   sales_commission_code  447349 non-null  object \n",
      " 10  discount_amount        584524 non-null  float64\n",
      " 11  payment_method         584524 non-null  object \n",
      " 12  Working Date           584524 non-null  object \n",
      " 13  BI Status              584524 non-null  object \n",
      " 14   MV                    584524 non-null  object \n",
      " 15  Year                   584524 non-null  float64\n",
      " 16  Month                  584524 non-null  float64\n",
      " 17  Customer Since         584513 non-null  object \n",
      " 18  M-Y                    584524 non-null  object \n",
      " 19  FY                     584524 non-null  object \n",
      " 20  Customer ID            584513 non-null  float64\n",
      " 21  Unnamed: 21            0 non-null       float64\n",
      " 22  Unnamed: 22            0 non-null       float64\n",
      " 23  Unnamed: 23            0 non-null       float64\n",
      " 24  Unnamed: 24            0 non-null       float64\n",
      " 25  Unnamed: 25            0 non-null       float64\n",
      "dtypes: float64(13), object(13)\n",
      "memory usage: 208.0+ MB\n"
     ]
    }
   ],
   "source": [
    "dataset.info()"
   ]
  },
  {
   "cell_type": "code",
   "execution_count": 6,
   "id": "22bc7b44",
   "metadata": {
    "execution": {
     "iopub.execute_input": "2022-06-01T07:36:24.160685Z",
     "iopub.status.busy": "2022-06-01T07:36:24.159907Z",
     "iopub.status.idle": "2022-06-01T07:36:24.316993Z",
     "shell.execute_reply": "2022-06-01T07:36:24.315757Z"
    },
    "papermill": {
     "duration": 0.172576,
     "end_time": "2022-06-01T07:36:24.319056",
     "exception": false,
     "start_time": "2022-06-01T07:36:24.146480",
     "status": "completed"
    },
    "tags": []
   },
   "outputs": [],
   "source": [
    "dataset.drop(['Unnamed: 21','Unnamed: 22','Unnamed: 23','Unnamed: 24','Unnamed: 25'],inplace=True,axis=1)"
   ]
  },
  {
   "cell_type": "code",
   "execution_count": 7,
   "id": "fe5a41bc",
   "metadata": {
    "execution": {
     "iopub.execute_input": "2022-06-01T07:36:24.344761Z",
     "iopub.status.busy": "2022-06-01T07:36:24.344382Z",
     "iopub.status.idle": "2022-06-01T07:36:24.351002Z",
     "shell.execute_reply": "2022-06-01T07:36:24.350077Z"
    },
    "papermill": {
     "duration": 0.022549,
     "end_time": "2022-06-01T07:36:24.353557",
     "exception": false,
     "start_time": "2022-06-01T07:36:24.331008",
     "status": "completed"
    },
    "tags": []
   },
   "outputs": [
    {
     "data": {
      "text/plain": [
       "Index(['item_id', 'status', 'created_at', 'sku', 'price', 'qty_ordered',\n",
       "       'grand_total', 'increment_id', 'category_name_1',\n",
       "       'sales_commission_code', 'discount_amount', 'payment_method',\n",
       "       'Working Date', 'BI Status', ' MV ', 'Year', 'Month', 'Customer Since',\n",
       "       'M-Y', 'FY', 'Customer ID'],\n",
       "      dtype='object')"
      ]
     },
     "execution_count": 7,
     "metadata": {},
     "output_type": "execute_result"
    }
   ],
   "source": [
    "dataset.columns"
   ]
  },
  {
   "cell_type": "code",
   "execution_count": 8,
   "id": "6b8deadb",
   "metadata": {
    "execution": {
     "iopub.execute_input": "2022-06-01T07:36:24.380948Z",
     "iopub.status.busy": "2022-06-01T07:36:24.379885Z",
     "iopub.status.idle": "2022-06-01T07:36:24.388086Z",
     "shell.execute_reply": "2022-06-01T07:36:24.387204Z"
    },
    "papermill": {
     "duration": 0.024041,
     "end_time": "2022-06-01T07:36:24.390145",
     "exception": false,
     "start_time": "2022-06-01T07:36:24.366104",
     "status": "completed"
    },
    "tags": []
   },
   "outputs": [
    {
     "data": {
      "text/plain": [
       "0          cod\n",
       "1          cod\n",
       "2          cod\n",
       "3          cod\n",
       "4          cod\n",
       "          ... \n",
       "1048570    NaN\n",
       "1048571    NaN\n",
       "1048572    NaN\n",
       "1048573    NaN\n",
       "1048574    NaN\n",
       "Name: payment_method, Length: 1048575, dtype: object"
      ]
     },
     "execution_count": 8,
     "metadata": {},
     "output_type": "execute_result"
    }
   ],
   "source": [
    "dataset['payment_method']"
   ]
  },
  {
   "cell_type": "markdown",
   "id": "77019720",
   "metadata": {
    "papermill": {
     "duration": 0.011918,
     "end_time": "2022-06-01T07:36:24.414749",
     "exception": false,
     "start_time": "2022-06-01T07:36:24.402831",
     "status": "completed"
    },
    "tags": []
   },
   "source": [
    "# **Selecting Relatively more import Features for sale**"
   ]
  },
  {
   "cell_type": "code",
   "execution_count": 9,
   "id": "ac975ae7",
   "metadata": {
    "execution": {
     "iopub.execute_input": "2022-06-01T07:36:24.441493Z",
     "iopub.status.busy": "2022-06-01T07:36:24.441080Z",
     "iopub.status.idle": "2022-06-01T07:36:24.525295Z",
     "shell.execute_reply": "2022-06-01T07:36:24.523673Z"
    },
    "papermill": {
     "duration": 0.101057,
     "end_time": "2022-06-01T07:36:24.528514",
     "exception": false,
     "start_time": "2022-06-01T07:36:24.427457",
     "status": "completed"
    },
    "tags": []
   },
   "outputs": [],
   "source": [
    "df=dataset[['item_id','status','created_at','price','qty_ordered','grand_total','category_name_1',\n",
    "           'payment_method','Year','Month','Customer ID']]"
   ]
  },
  {
   "cell_type": "code",
   "execution_count": 10,
   "id": "ab9be778",
   "metadata": {
    "execution": {
     "iopub.execute_input": "2022-06-01T07:36:24.555472Z",
     "iopub.status.busy": "2022-06-01T07:36:24.555070Z",
     "iopub.status.idle": "2022-06-01T07:36:24.574959Z",
     "shell.execute_reply": "2022-06-01T07:36:24.574001Z"
    },
    "papermill": {
     "duration": 0.035987,
     "end_time": "2022-06-01T07:36:24.577201",
     "exception": false,
     "start_time": "2022-06-01T07:36:24.541214",
     "status": "completed"
    },
    "tags": []
   },
   "outputs": [
    {
     "data": {
      "text/html": [
       "<div>\n",
       "<style scoped>\n",
       "    .dataframe tbody tr th:only-of-type {\n",
       "        vertical-align: middle;\n",
       "    }\n",
       "\n",
       "    .dataframe tbody tr th {\n",
       "        vertical-align: top;\n",
       "    }\n",
       "\n",
       "    .dataframe thead th {\n",
       "        text-align: right;\n",
       "    }\n",
       "</style>\n",
       "<table border=\"1\" class=\"dataframe\">\n",
       "  <thead>\n",
       "    <tr style=\"text-align: right;\">\n",
       "      <th></th>\n",
       "      <th>item_id</th>\n",
       "      <th>status</th>\n",
       "      <th>created_at</th>\n",
       "      <th>price</th>\n",
       "      <th>qty_ordered</th>\n",
       "      <th>grand_total</th>\n",
       "      <th>category_name_1</th>\n",
       "      <th>payment_method</th>\n",
       "      <th>Year</th>\n",
       "      <th>Month</th>\n",
       "      <th>Customer ID</th>\n",
       "    </tr>\n",
       "  </thead>\n",
       "  <tbody>\n",
       "    <tr>\n",
       "      <th>0</th>\n",
       "      <td>211131.0</td>\n",
       "      <td>complete</td>\n",
       "      <td>7/1/2016</td>\n",
       "      <td>1950.0</td>\n",
       "      <td>1.0</td>\n",
       "      <td>1950.0</td>\n",
       "      <td>Women's Fashion</td>\n",
       "      <td>cod</td>\n",
       "      <td>2016.0</td>\n",
       "      <td>7.0</td>\n",
       "      <td>1.0</td>\n",
       "    </tr>\n",
       "    <tr>\n",
       "      <th>1</th>\n",
       "      <td>211133.0</td>\n",
       "      <td>canceled</td>\n",
       "      <td>7/1/2016</td>\n",
       "      <td>240.0</td>\n",
       "      <td>1.0</td>\n",
       "      <td>240.0</td>\n",
       "      <td>Beauty &amp; Grooming</td>\n",
       "      <td>cod</td>\n",
       "      <td>2016.0</td>\n",
       "      <td>7.0</td>\n",
       "      <td>2.0</td>\n",
       "    </tr>\n",
       "    <tr>\n",
       "      <th>2</th>\n",
       "      <td>211134.0</td>\n",
       "      <td>canceled</td>\n",
       "      <td>7/1/2016</td>\n",
       "      <td>2450.0</td>\n",
       "      <td>1.0</td>\n",
       "      <td>2450.0</td>\n",
       "      <td>Women's Fashion</td>\n",
       "      <td>cod</td>\n",
       "      <td>2016.0</td>\n",
       "      <td>7.0</td>\n",
       "      <td>3.0</td>\n",
       "    </tr>\n",
       "    <tr>\n",
       "      <th>3</th>\n",
       "      <td>211135.0</td>\n",
       "      <td>complete</td>\n",
       "      <td>7/1/2016</td>\n",
       "      <td>360.0</td>\n",
       "      <td>1.0</td>\n",
       "      <td>60.0</td>\n",
       "      <td>Beauty &amp; Grooming</td>\n",
       "      <td>cod</td>\n",
       "      <td>2016.0</td>\n",
       "      <td>7.0</td>\n",
       "      <td>4.0</td>\n",
       "    </tr>\n",
       "    <tr>\n",
       "      <th>4</th>\n",
       "      <td>211136.0</td>\n",
       "      <td>order_refunded</td>\n",
       "      <td>7/1/2016</td>\n",
       "      <td>555.0</td>\n",
       "      <td>2.0</td>\n",
       "      <td>1110.0</td>\n",
       "      <td>Soghaat</td>\n",
       "      <td>cod</td>\n",
       "      <td>2016.0</td>\n",
       "      <td>7.0</td>\n",
       "      <td>5.0</td>\n",
       "    </tr>\n",
       "  </tbody>\n",
       "</table>\n",
       "</div>"
      ],
      "text/plain": [
       "    item_id          status created_at   price  qty_ordered  grand_total  \\\n",
       "0  211131.0        complete   7/1/2016  1950.0          1.0       1950.0   \n",
       "1  211133.0        canceled   7/1/2016   240.0          1.0        240.0   \n",
       "2  211134.0        canceled   7/1/2016  2450.0          1.0       2450.0   \n",
       "3  211135.0        complete   7/1/2016   360.0          1.0         60.0   \n",
       "4  211136.0  order_refunded   7/1/2016   555.0          2.0       1110.0   \n",
       "\n",
       "     category_name_1 payment_method    Year  Month  Customer ID  \n",
       "0    Women's Fashion            cod  2016.0    7.0          1.0  \n",
       "1  Beauty & Grooming            cod  2016.0    7.0          2.0  \n",
       "2    Women's Fashion            cod  2016.0    7.0          3.0  \n",
       "3  Beauty & Grooming            cod  2016.0    7.0          4.0  \n",
       "4            Soghaat            cod  2016.0    7.0          5.0  "
      ]
     },
     "execution_count": 10,
     "metadata": {},
     "output_type": "execute_result"
    }
   ],
   "source": [
    "df.head()"
   ]
  },
  {
   "cell_type": "markdown",
   "id": "a212b2b5",
   "metadata": {
    "papermill": {
     "duration": 0.012658,
     "end_time": "2022-06-01T07:36:24.602902",
     "exception": false,
     "start_time": "2022-06-01T07:36:24.590244",
     "status": "completed"
    },
    "tags": []
   },
   "source": [
    "# **Handling Missing Values**"
   ]
  },
  {
   "cell_type": "code",
   "execution_count": 11,
   "id": "3b38f323",
   "metadata": {
    "execution": {
     "iopub.execute_input": "2022-06-01T07:36:24.629970Z",
     "iopub.status.busy": "2022-06-01T07:36:24.629527Z",
     "iopub.status.idle": "2022-06-01T07:36:24.635534Z",
     "shell.execute_reply": "2022-06-01T07:36:24.634579Z"
    },
    "papermill": {
     "duration": 0.022721,
     "end_time": "2022-06-01T07:36:24.638165",
     "exception": false,
     "start_time": "2022-06-01T07:36:24.615444",
     "status": "completed"
    },
    "tags": []
   },
   "outputs": [
    {
     "data": {
      "text/plain": [
       "(1048575, 11)"
      ]
     },
     "execution_count": 11,
     "metadata": {},
     "output_type": "execute_result"
    }
   ],
   "source": [
    "df.shape"
   ]
  },
  {
   "cell_type": "code",
   "execution_count": 12,
   "id": "579a8e1f",
   "metadata": {
    "execution": {
     "iopub.execute_input": "2022-06-01T07:36:24.665264Z",
     "iopub.status.busy": "2022-06-01T07:36:24.664868Z",
     "iopub.status.idle": "2022-06-01T07:36:25.012820Z",
     "shell.execute_reply": "2022-06-01T07:36:25.011862Z"
    },
    "papermill": {
     "duration": 0.364281,
     "end_time": "2022-06-01T07:36:25.015210",
     "exception": false,
     "start_time": "2022-06-01T07:36:24.650929",
     "status": "completed"
    },
    "tags": []
   },
   "outputs": [
    {
     "data": {
      "text/plain": [
       "item_id            464051\n",
       "status             464066\n",
       "created_at         464051\n",
       "price              464051\n",
       "qty_ordered        464051\n",
       "grand_total        464051\n",
       "category_name_1    464215\n",
       "payment_method     464051\n",
       "Year               464051\n",
       "Month              464051\n",
       "Customer ID        464062\n",
       "dtype: int64"
      ]
     },
     "execution_count": 12,
     "metadata": {},
     "output_type": "execute_result"
    }
   ],
   "source": [
    "df.isnull().sum()"
   ]
  },
  {
   "cell_type": "code",
   "execution_count": 13,
   "id": "e964a273",
   "metadata": {
    "execution": {
     "iopub.execute_input": "2022-06-01T07:36:25.042793Z",
     "iopub.status.busy": "2022-06-01T07:36:25.042390Z",
     "iopub.status.idle": "2022-06-01T07:36:25.445386Z",
     "shell.execute_reply": "2022-06-01T07:36:25.444282Z"
    },
    "papermill": {
     "duration": 0.419166,
     "end_time": "2022-06-01T07:36:25.447419",
     "exception": false,
     "start_time": "2022-06-01T07:36:25.028253",
     "status": "completed"
    },
    "tags": []
   },
   "outputs": [
    {
     "data": {
      "text/plain": [
       "(584334, 11)"
      ]
     },
     "execution_count": 13,
     "metadata": {},
     "output_type": "execute_result"
    }
   ],
   "source": [
    "df=df.dropna()\n",
    "df.shape"
   ]
  },
  {
   "cell_type": "markdown",
   "id": "411c120f",
   "metadata": {
    "papermill": {
     "duration": 0.012266,
     "end_time": "2022-06-01T07:36:25.472417",
     "exception": false,
     "start_time": "2022-06-01T07:36:25.460151",
     "status": "completed"
    },
    "tags": []
   },
   "source": [
    "# **Handling Categorical features**"
   ]
  },
  {
   "cell_type": "code",
   "execution_count": 14,
   "id": "5884a9f6",
   "metadata": {
    "execution": {
     "iopub.execute_input": "2022-06-01T07:36:25.499514Z",
     "iopub.status.busy": "2022-06-01T07:36:25.499129Z",
     "iopub.status.idle": "2022-06-01T07:36:25.553382Z",
     "shell.execute_reply": "2022-06-01T07:36:25.552329Z"
    },
    "papermill": {
     "duration": 0.070485,
     "end_time": "2022-06-01T07:36:25.555651",
     "exception": false,
     "start_time": "2022-06-01T07:36:25.485166",
     "status": "completed"
    },
    "tags": []
   },
   "outputs": [
    {
     "data": {
      "text/plain": [
       "array(['complete', 'canceled', 'order_refunded', 'received', 'refund',\n",
       "       'closed', 'fraud', 'holded', 'exchange', 'pending_paypal', 'paid',\n",
       "       '\\\\N', 'cod', 'pending', 'processing', 'payment_review'],\n",
       "      dtype=object)"
      ]
     },
     "execution_count": 14,
     "metadata": {},
     "output_type": "execute_result"
    }
   ],
   "source": [
    "df['status'].unique()"
   ]
  },
  {
   "cell_type": "code",
   "execution_count": 15,
   "id": "6b445034",
   "metadata": {
    "execution": {
     "iopub.execute_input": "2022-06-01T07:36:25.583525Z",
     "iopub.status.busy": "2022-06-01T07:36:25.583015Z",
     "iopub.status.idle": "2022-06-01T07:36:25.833134Z",
     "shell.execute_reply": "2022-06-01T07:36:25.832054Z"
    },
    "papermill": {
     "duration": 0.266939,
     "end_time": "2022-06-01T07:36:25.835630",
     "exception": false,
     "start_time": "2022-06-01T07:36:25.568691",
     "status": "completed"
    },
    "tags": []
   },
   "outputs": [],
   "source": [
    "df['status']=df['status'].replace('\\\\N',df['status'].mode()[0])\n",
    "df['category_name_1']=df['category_name_1'].replace('\\\\N',df['category_name_1'].mode()[0])\n"
   ]
  },
  {
   "cell_type": "code",
   "execution_count": 16,
   "id": "c9f4431a",
   "metadata": {
    "execution": {
     "iopub.execute_input": "2022-06-01T07:36:25.863675Z",
     "iopub.status.busy": "2022-06-01T07:36:25.862952Z",
     "iopub.status.idle": "2022-06-01T07:36:25.915354Z",
     "shell.execute_reply": "2022-06-01T07:36:25.914391Z"
    },
    "papermill": {
     "duration": 0.069029,
     "end_time": "2022-06-01T07:36:25.917737",
     "exception": false,
     "start_time": "2022-06-01T07:36:25.848708",
     "status": "completed"
    },
    "tags": []
   },
   "outputs": [
    {
     "data": {
      "text/plain": [
       "array(['complete', 'canceled', 'order_refunded', 'received', 'refund',\n",
       "       'closed', 'fraud', 'holded', 'exchange', 'pending_paypal', 'paid',\n",
       "       'cod', 'pending', 'processing', 'payment_review'], dtype=object)"
      ]
     },
     "execution_count": 16,
     "metadata": {},
     "output_type": "execute_result"
    }
   ],
   "source": [
    "df['status'].unique()"
   ]
  },
  {
   "cell_type": "code",
   "execution_count": 17,
   "id": "96d8bcad",
   "metadata": {
    "execution": {
     "iopub.execute_input": "2022-06-01T07:36:25.946298Z",
     "iopub.status.busy": "2022-06-01T07:36:25.945873Z",
     "iopub.status.idle": "2022-06-01T07:36:26.004023Z",
     "shell.execute_reply": "2022-06-01T07:36:26.001860Z"
    },
    "papermill": {
     "duration": 0.076533,
     "end_time": "2022-06-01T07:36:26.007505",
     "exception": false,
     "start_time": "2022-06-01T07:36:25.930972",
     "status": "completed"
    },
    "tags": []
   },
   "outputs": [
    {
     "data": {
      "text/plain": [
       "array([\"Women's Fashion\", 'Beauty & Grooming', 'Soghaat',\n",
       "       'Mobiles & Tablets', 'Appliances', 'Home & Living',\n",
       "       \"Men's Fashion\", 'Kids & Baby', 'Others', 'Entertainment',\n",
       "       'Computing', 'Superstore', 'Health & Sports', 'Books',\n",
       "       'School & Education'], dtype=object)"
      ]
     },
     "execution_count": 17,
     "metadata": {},
     "output_type": "execute_result"
    }
   ],
   "source": [
    "df['category_name_1'].unique()"
   ]
  },
  {
   "cell_type": "code",
   "execution_count": 18,
   "id": "7d7eadeb",
   "metadata": {
    "execution": {
     "iopub.execute_input": "2022-06-01T07:36:26.037867Z",
     "iopub.status.busy": "2022-06-01T07:36:26.037102Z",
     "iopub.status.idle": "2022-06-01T07:36:26.300135Z",
     "shell.execute_reply": "2022-06-01T07:36:26.299068Z"
    },
    "papermill": {
     "duration": 0.280319,
     "end_time": "2022-06-01T07:36:26.302461",
     "exception": false,
     "start_time": "2022-06-01T07:36:26.022142",
     "status": "completed"
    },
    "tags": []
   },
   "outputs": [
    {
     "data": {
      "text/plain": [
       "item_id            0\n",
       "status             0\n",
       "created_at         0\n",
       "price              0\n",
       "qty_ordered        0\n",
       "grand_total        0\n",
       "category_name_1    0\n",
       "payment_method     0\n",
       "Year               0\n",
       "Month              0\n",
       "Customer ID        0\n",
       "dtype: int64"
      ]
     },
     "execution_count": 18,
     "metadata": {},
     "output_type": "execute_result"
    }
   ],
   "source": [
    "df.isnull().sum()"
   ]
  },
  {
   "cell_type": "code",
   "execution_count": 19,
   "id": "26de1acf",
   "metadata": {
    "execution": {
     "iopub.execute_input": "2022-06-01T07:36:26.331387Z",
     "iopub.status.busy": "2022-06-01T07:36:26.330698Z",
     "iopub.status.idle": "2022-06-01T07:36:26.530680Z",
     "shell.execute_reply": "2022-06-01T07:36:26.529730Z"
    },
    "papermill": {
     "duration": 0.216964,
     "end_time": "2022-06-01T07:36:26.532961",
     "exception": false,
     "start_time": "2022-06-01T07:36:26.315997",
     "status": "completed"
    },
    "tags": []
   },
   "outputs": [
    {
     "data": {
      "text/html": [
       "<div>\n",
       "<style scoped>\n",
       "    .dataframe tbody tr th:only-of-type {\n",
       "        vertical-align: middle;\n",
       "    }\n",
       "\n",
       "    .dataframe tbody tr th {\n",
       "        vertical-align: top;\n",
       "    }\n",
       "\n",
       "    .dataframe thead th {\n",
       "        text-align: right;\n",
       "    }\n",
       "</style>\n",
       "<table border=\"1\" class=\"dataframe\">\n",
       "  <thead>\n",
       "    <tr style=\"text-align: right;\">\n",
       "      <th></th>\n",
       "      <th>item_id</th>\n",
       "      <th>price</th>\n",
       "      <th>qty_ordered</th>\n",
       "      <th>grand_total</th>\n",
       "      <th>Year</th>\n",
       "      <th>Month</th>\n",
       "      <th>Customer ID</th>\n",
       "    </tr>\n",
       "  </thead>\n",
       "  <tbody>\n",
       "    <tr>\n",
       "      <th>count</th>\n",
       "      <td>584334.000000</td>\n",
       "      <td>5.843340e+05</td>\n",
       "      <td>584334.000000</td>\n",
       "      <td>5.843340e+05</td>\n",
       "      <td>584334.000000</td>\n",
       "      <td>584334.000000</td>\n",
       "      <td>584334.000000</td>\n",
       "    </tr>\n",
       "    <tr>\n",
       "      <th>mean</th>\n",
       "      <td>565585.094636</td>\n",
       "      <td>6.350635e+03</td>\n",
       "      <td>1.294306</td>\n",
       "      <td>8.532702e+03</td>\n",
       "      <td>2017.043804</td>\n",
       "      <td>7.168741</td>\n",
       "      <td>45778.310401</td>\n",
       "    </tr>\n",
       "    <tr>\n",
       "      <th>std</th>\n",
       "      <td>200101.028771</td>\n",
       "      <td>1.495130e+04</td>\n",
       "      <td>3.988084</td>\n",
       "      <td>6.133065e+04</td>\n",
       "      <td>0.707260</td>\n",
       "      <td>3.486273</td>\n",
       "      <td>34411.455889</td>\n",
       "    </tr>\n",
       "    <tr>\n",
       "      <th>min</th>\n",
       "      <td>211131.000000</td>\n",
       "      <td>0.000000e+00</td>\n",
       "      <td>1.000000</td>\n",
       "      <td>-1.594000e+03</td>\n",
       "      <td>2016.000000</td>\n",
       "      <td>1.000000</td>\n",
       "      <td>1.000000</td>\n",
       "    </tr>\n",
       "    <tr>\n",
       "      <th>25%</th>\n",
       "      <td>394941.250000</td>\n",
       "      <td>3.600000e+02</td>\n",
       "      <td>1.000000</td>\n",
       "      <td>9.450025e+02</td>\n",
       "      <td>2017.000000</td>\n",
       "      <td>4.000000</td>\n",
       "      <td>13511.000000</td>\n",
       "    </tr>\n",
       "    <tr>\n",
       "      <th>50%</th>\n",
       "      <td>568291.500000</td>\n",
       "      <td>8.994000e+02</td>\n",
       "      <td>1.000000</td>\n",
       "      <td>1.960912e+03</td>\n",
       "      <td>2017.000000</td>\n",
       "      <td>7.000000</td>\n",
       "      <td>42846.000000</td>\n",
       "    </tr>\n",
       "    <tr>\n",
       "      <th>75%</th>\n",
       "      <td>738976.750000</td>\n",
       "      <td>4.089750e+03</td>\n",
       "      <td>1.000000</td>\n",
       "      <td>6.999000e+03</td>\n",
       "      <td>2018.000000</td>\n",
       "      <td>11.000000</td>\n",
       "      <td>73512.000000</td>\n",
       "    </tr>\n",
       "    <tr>\n",
       "      <th>max</th>\n",
       "      <td>905208.000000</td>\n",
       "      <td>1.012626e+06</td>\n",
       "      <td>1000.000000</td>\n",
       "      <td>1.788800e+07</td>\n",
       "      <td>2018.000000</td>\n",
       "      <td>12.000000</td>\n",
       "      <td>115326.000000</td>\n",
       "    </tr>\n",
       "  </tbody>\n",
       "</table>\n",
       "</div>"
      ],
      "text/plain": [
       "             item_id         price    qty_ordered   grand_total  \\\n",
       "count  584334.000000  5.843340e+05  584334.000000  5.843340e+05   \n",
       "mean   565585.094636  6.350635e+03       1.294306  8.532702e+03   \n",
       "std    200101.028771  1.495130e+04       3.988084  6.133065e+04   \n",
       "min    211131.000000  0.000000e+00       1.000000 -1.594000e+03   \n",
       "25%    394941.250000  3.600000e+02       1.000000  9.450025e+02   \n",
       "50%    568291.500000  8.994000e+02       1.000000  1.960912e+03   \n",
       "75%    738976.750000  4.089750e+03       1.000000  6.999000e+03   \n",
       "max    905208.000000  1.012626e+06    1000.000000  1.788800e+07   \n",
       "\n",
       "                Year          Month    Customer ID  \n",
       "count  584334.000000  584334.000000  584334.000000  \n",
       "mean     2017.043804       7.168741   45778.310401  \n",
       "std         0.707260       3.486273   34411.455889  \n",
       "min      2016.000000       1.000000       1.000000  \n",
       "25%      2017.000000       4.000000   13511.000000  \n",
       "50%      2017.000000       7.000000   42846.000000  \n",
       "75%      2018.000000      11.000000   73512.000000  \n",
       "max      2018.000000      12.000000  115326.000000  "
      ]
     },
     "execution_count": 19,
     "metadata": {},
     "output_type": "execute_result"
    }
   ],
   "source": [
    "df.describe()"
   ]
  },
  {
   "cell_type": "markdown",
   "id": "640c8ea9",
   "metadata": {
    "papermill": {
     "duration": 0.013925,
     "end_time": "2022-06-01T07:36:26.560772",
     "exception": false,
     "start_time": "2022-06-01T07:36:26.546847",
     "status": "completed"
    },
    "tags": []
   },
   "source": [
    "## **Checking Number of sales when price of product <= 900**"
   ]
  },
  {
   "cell_type": "code",
   "execution_count": 20,
   "id": "e9276b2a",
   "metadata": {
    "execution": {
     "iopub.execute_input": "2022-06-01T07:36:26.590383Z",
     "iopub.status.busy": "2022-06-01T07:36:26.589635Z",
     "iopub.status.idle": "2022-06-01T07:36:26.625027Z",
     "shell.execute_reply": "2022-06-01T07:36:26.624101Z"
    },
    "papermill": {
     "duration": 0.053728,
     "end_time": "2022-06-01T07:36:26.628234",
     "exception": false,
     "start_time": "2022-06-01T07:36:26.574506",
     "status": "completed"
    },
    "tags": []
   },
   "outputs": [
    {
     "name": "stdout",
     "output_type": "stream",
     "text": [
      "No of sales when price of product was less then or equal to 900:  50.24%\n"
     ]
    }
   ],
   "source": [
    "no_of_sales=df[df['price']<= 900].shape[0]\n",
    "print(f'No of sales when price of product was less then or equal to 900:  {(no_of_sales/df.shape[0])*100:.2f}%')"
   ]
  },
  {
   "cell_type": "markdown",
   "id": "c1a369c1",
   "metadata": {
    "papermill": {
     "duration": 0.013515,
     "end_time": "2022-06-01T07:36:26.656635",
     "exception": false,
     "start_time": "2022-06-01T07:36:26.643120",
     "status": "completed"
    },
    "tags": []
   },
   "source": [
    "### **What is the most popular Payment method**"
   ]
  },
  {
   "cell_type": "code",
   "execution_count": 21,
   "id": "70f5cb84",
   "metadata": {
    "execution": {
     "iopub.execute_input": "2022-06-01T07:36:26.685933Z",
     "iopub.status.busy": "2022-06-01T07:36:26.685340Z",
     "iopub.status.idle": "2022-06-01T07:36:27.816520Z",
     "shell.execute_reply": "2022-06-01T07:36:27.815311Z"
    },
    "papermill": {
     "duration": 1.148829,
     "end_time": "2022-06-01T07:36:27.819029",
     "exception": false,
     "start_time": "2022-06-01T07:36:26.670200",
     "status": "completed"
    },
    "tags": []
   },
   "outputs": [],
   "source": [
    "import seaborn as sns\n",
    "import matplotlib.pyplot as plt"
   ]
  },
  {
   "cell_type": "code",
   "execution_count": 22,
   "id": "0e2d8aa4",
   "metadata": {
    "execution": {
     "iopub.execute_input": "2022-06-01T07:36:27.848683Z",
     "iopub.status.busy": "2022-06-01T07:36:27.847757Z",
     "iopub.status.idle": "2022-06-01T07:36:28.822922Z",
     "shell.execute_reply": "2022-06-01T07:36:28.821991Z"
    },
    "papermill": {
     "duration": 0.992751,
     "end_time": "2022-06-01T07:36:28.825424",
     "exception": false,
     "start_time": "2022-06-01T07:36:27.832673",
     "status": "completed"
    },
    "tags": []
   },
   "outputs": [],
   "source": [
    "# making easypay,easpay_MA and easpay_voucher one category easypay\n",
    "df['payment_method']=df['payment_method'].str.replace('Easypay_MA','Easypay')\n",
    "df['payment_method']=df['payment_method'].str.replace('easypay_voucher','Easypay')"
   ]
  },
  {
   "cell_type": "code",
   "execution_count": 23,
   "id": "b55f53ff",
   "metadata": {
    "execution": {
     "iopub.execute_input": "2022-06-01T07:36:28.854548Z",
     "iopub.status.busy": "2022-06-01T07:36:28.854133Z",
     "iopub.status.idle": "2022-06-01T07:36:28.914913Z",
     "shell.execute_reply": "2022-06-01T07:36:28.914114Z"
    },
    "papermill": {
     "duration": 0.078337,
     "end_time": "2022-06-01T07:36:28.917494",
     "exception": false,
     "start_time": "2022-06-01T07:36:28.839157",
     "status": "completed"
    },
    "tags": []
   },
   "outputs": [
    {
     "data": {
      "text/plain": [
       "payment_method\n",
       "cod                  271790\n",
       "Easypay              128094\n",
       "Payaxis               97640\n",
       "jazzwallet            35145\n",
       "bankalfalah           23057\n",
       "jazzvoucher           15633\n",
       "customercredit         7554\n",
       "apg                    1758\n",
       "ublcreditcard           882\n",
       "cashatdoorstep          732\n",
       "mcblite                 723\n",
       "mygateway               669\n",
       "internetbanking         472\n",
       "productcredit           125\n",
       "marketingexpense         45\n",
       "financesettlement        15\n",
       "dtype: int64"
      ]
     },
     "execution_count": 23,
     "metadata": {},
     "output_type": "execute_result"
    }
   ],
   "source": [
    "x=df.groupby(['payment_method']).size().sort_values(ascending=False)\n",
    "x"
   ]
  },
  {
   "cell_type": "code",
   "execution_count": 24,
   "id": "c90d9998",
   "metadata": {
    "execution": {
     "iopub.execute_input": "2022-06-01T07:36:28.948382Z",
     "iopub.status.busy": "2022-06-01T07:36:28.947309Z",
     "iopub.status.idle": "2022-06-01T07:36:28.956274Z",
     "shell.execute_reply": "2022-06-01T07:36:28.955308Z"
    },
    "papermill": {
     "duration": 0.027126,
     "end_time": "2022-06-01T07:36:28.958433",
     "exception": false,
     "start_time": "2022-06-01T07:36:28.931307",
     "status": "completed"
    },
    "tags": []
   },
   "outputs": [
    {
     "data": {
      "text/plain": [
       "0                 cod\n",
       "1                 cod\n",
       "2                 cod\n",
       "3                 cod\n",
       "4                 cod\n",
       "             ...     \n",
       "584519            cod\n",
       "584520    bankalfalah\n",
       "584521    bankalfalah\n",
       "584522    bankalfalah\n",
       "584523    bankalfalah\n",
       "Name: payment_method, Length: 584334, dtype: object"
      ]
     },
     "execution_count": 24,
     "metadata": {},
     "output_type": "execute_result"
    }
   ],
   "source": [
    "df['payment_method']"
   ]
  },
  {
   "cell_type": "code",
   "execution_count": 25,
   "id": "16012425",
   "metadata": {
    "execution": {
     "iopub.execute_input": "2022-06-01T07:36:28.989037Z",
     "iopub.status.busy": "2022-06-01T07:36:28.987962Z",
     "iopub.status.idle": "2022-06-01T07:36:29.983113Z",
     "shell.execute_reply": "2022-06-01T07:36:29.982041Z"
    },
    "papermill": {
     "duration": 1.012783,
     "end_time": "2022-06-01T07:36:29.985481",
     "exception": false,
     "start_time": "2022-06-01T07:36:28.972698",
     "status": "completed"
    },
    "tags": []
   },
   "outputs": [
    {
     "data": {
      "image/png": "[encoded data removed]",
      "text/plain": [
       "<Figure size 432x288 with 1 Axes>"
      ]
     },
     "metadata": {
      "needs_background": "light"
     },
     "output_type": "display_data"
    }
   ],
   "source": [
    "chart = sns.countplot(x=df['payment_method'])\n",
    "\n",
    "chart.set_xticklabels(chart.get_xticklabels(), rotation=30, horizontalalignment='right')\n",
    "plt.show()"
   ]
  },
  {
   "cell_type": "markdown",
   "id": "c318b5d7",
   "metadata": {
    "papermill": {
     "duration": 0.017804,
     "end_time": "2022-06-01T07:36:30.018223",
     "exception": false,
     "start_time": "2022-06-01T07:36:30.000419",
     "status": "completed"
    },
    "tags": []
   },
   "source": [
    "The most popular payment methods are Cash on deleivery and Easypay"
   ]
  },
  {
   "cell_type": "markdown",
   "id": "b23706eb",
   "metadata": {
    "papermill": {
     "duration": 0.0146,
     "end_time": "2022-06-01T07:36:30.048044",
     "exception": false,
     "start_time": "2022-06-01T07:36:30.033444",
     "status": "completed"
    },
    "tags": []
   },
   "source": [
    "\n",
    "# **Question No 2. What does customers do wether they complete order or not?**"
   ]
  },
  {
   "cell_type": "code",
   "execution_count": 26,
   "id": "d8df8571",
   "metadata": {
    "execution": {
     "iopub.execute_input": "2022-06-01T07:36:30.079201Z",
     "iopub.status.busy": "2022-06-01T07:36:30.078128Z",
     "iopub.status.idle": "2022-06-01T07:36:30.178524Z",
     "shell.execute_reply": "2022-06-01T07:36:30.177505Z"
    },
    "papermill": {
     "duration": 0.118259,
     "end_time": "2022-06-01T07:36:30.180731",
     "exception": false,
     "start_time": "2022-06-01T07:36:30.062472",
     "status": "completed"
    },
    "tags": []
   },
   "outputs": [
    {
     "data": {
      "text/plain": [
       "complete          233688\n",
       "canceled          201136\n",
       "received           77284\n",
       "order_refunded     59500\n",
       "refund              8028\n",
       "cod                 2855\n",
       "paid                1159\n",
       "closed               494\n",
       "payment_review        57\n",
       "pending               48\n",
       "processing            33\n",
       "holded                31\n",
       "fraud                 10\n",
       "pending_paypal         7\n",
       "exchange               4\n",
       "Name: status, dtype: int64"
      ]
     },
     "execution_count": 26,
     "metadata": {},
     "output_type": "execute_result"
    }
   ],
   "source": [
    "df['status'].value_counts()"
   ]
  },
  {
   "cell_type": "code",
   "execution_count": 27,
   "id": "f7534e1b",
   "metadata": {
    "execution": {
     "iopub.execute_input": "2022-06-01T07:36:30.212012Z",
     "iopub.status.busy": "2022-06-01T07:36:30.211335Z",
     "iopub.status.idle": "2022-06-01T07:36:31.129716Z",
     "shell.execute_reply": "2022-06-01T07:36:31.129016Z"
    },
    "papermill": {
     "duration": 0.936411,
     "end_time": "2022-06-01T07:36:31.131750",
     "exception": false,
     "start_time": "2022-06-01T07:36:30.195339",
     "status": "completed"
    },
    "tags": []
   },
   "outputs": [
    {
     "data": {
      "image/png": "[encoded data removed]",
      "text/plain": [
       "<Figure size 432x288 with 1 Axes>"
      ]
     },
     "metadata": {
      "needs_background": "light"
     },
     "output_type": "display_data"
    }
   ],
   "source": [
    "chart = sns.countplot(x=df['status'])\n",
    "\n",
    "chart.set_xticklabels(chart.get_xticklabels(), rotation=30, horizontalalignment='right')\n",
    "plt.show()"
   ]
  },
  {
   "cell_type": "markdown",
   "id": "0a6ed0df",
   "metadata": {
    "papermill": {
     "duration": 0.014541,
     "end_time": "2022-06-01T07:36:31.161103",
     "exception": false,
     "start_time": "2022-06-01T07:36:31.146562",
     "status": "completed"
    },
    "tags": []
   },
   "source": [
    "### **What is the most In demand Item in Pakistan**"
   ]
  },
  {
   "cell_type": "markdown",
   "id": "ff4a0d6d",
   "metadata": {
    "papermill": {
     "duration": 0.014883,
     "end_time": "2022-06-01T07:36:31.191015",
     "exception": false,
     "start_time": "2022-06-01T07:36:31.176132",
     "status": "completed"
    },
    "tags": []
   },
   "source": [
    "We can clear see below that Mobiles & Tablets are the most in demand category in Pakistan other then that Men's and \n",
    "Women's Fashion products are also in demnad"
   ]
  },
  {
   "cell_type": "code",
   "execution_count": 28,
   "id": "fd6bc204",
   "metadata": {
    "execution": {
     "iopub.execute_input": "2022-06-01T07:36:31.222747Z",
     "iopub.status.busy": "2022-06-01T07:36:31.222345Z",
     "iopub.status.idle": "2022-06-01T07:36:31.322408Z",
     "shell.execute_reply": "2022-06-01T07:36:31.321609Z"
    },
    "papermill": {
     "duration": 0.118418,
     "end_time": "2022-06-01T07:36:31.324397",
     "exception": false,
     "start_time": "2022-06-01T07:36:31.205979",
     "status": "completed"
    },
    "tags": []
   },
   "outputs": [
    {
     "data": {
      "text/plain": [
       "Mobiles & Tablets     123559\n",
       "Men's Fashion          92218\n",
       "Women's Fashion        59720\n",
       "Appliances             52413\n",
       "Superstore             43611\n",
       "Beauty & Grooming      41493\n",
       "Soghaat                34011\n",
       "Others                 29208\n",
       "Home & Living          26504\n",
       "Entertainment          26325\n",
       "Health & Sports        17502\n",
       "Kids & Baby            16489\n",
       "Computing              15933\n",
       "School & Education      3478\n",
       "Books                   1870\n",
       "Name: category_name_1, dtype: int64"
      ]
     },
     "execution_count": 28,
     "metadata": {},
     "output_type": "execute_result"
    }
   ],
   "source": [
    "df['category_name_1'].value_counts()"
   ]
  },
  {
   "cell_type": "code",
   "execution_count": 29,
   "id": "b8205365",
   "metadata": {
    "execution": {
     "iopub.execute_input": "2022-06-01T07:36:31.356412Z",
     "iopub.status.busy": "2022-06-01T07:36:31.355396Z",
     "iopub.status.idle": "2022-06-01T07:36:32.304197Z",
     "shell.execute_reply": "2022-06-01T07:36:32.303465Z"
    },
    "papermill": {
     "duration": 0.967024,
     "end_time": "2022-06-01T07:36:32.306282",
     "exception": false,
     "start_time": "2022-06-01T07:36:31.339258",
     "status": "completed"
    },
    "tags": []
   },
   "outputs": [
    {
     "data": {
      "image/png": "[encoded data removed]",
      "text/plain": [
       "<Figure size 432x288 with 1 Axes>"
      ]
     },
     "metadata": {
      "needs_background": "light"
     },
     "output_type": "display_data"
    }
   ],
   "source": [
    "chart = sns.countplot(x=df['category_name_1'])\n",
    "\n",
    "chart.set_xticklabels(chart.get_xticklabels(), rotation=30, horizontalalignment='right')\n",
    "plt.show()"
   ]
  },
  {
   "cell_type": "markdown",
   "id": "519e049c",
   "metadata": {
    "papermill": {
     "duration": 0.015325,
     "end_time": "2022-06-01T07:36:32.337703",
     "exception": false,
     "start_time": "2022-06-01T07:36:32.322378",
     "status": "completed"
    },
    "tags": []
   },
   "source": [
    "# **Question no 4: Which item in category is more profitable?**"
   ]
  },
  {
   "cell_type": "markdown",
   "id": "23178738",
   "metadata": {
    "papermill": {
     "duration": 0.015176,
     "end_time": "2022-06-01T07:36:32.368354",
     "exception": false,
     "start_time": "2022-06-01T07:36:32.353178",
     "status": "completed"
    },
    "tags": []
   },
   "source": [
    "You can see below that \"Mobile & Tablets\", \"Appliances\" and \"Beauty & Grooming\" products are most proftable"
   ]
  },
  {
   "cell_type": "code",
   "execution_count": 30,
   "id": "6cd33aab",
   "metadata": {
    "execution": {
     "iopub.execute_input": "2022-06-01T07:36:32.401863Z",
     "iopub.status.busy": "2022-06-01T07:36:32.401432Z",
     "iopub.status.idle": "2022-06-01T07:36:32.475500Z",
     "shell.execute_reply": "2022-06-01T07:36:32.474681Z"
    },
    "papermill": {
     "duration": 0.093777,
     "end_time": "2022-06-01T07:36:32.478130",
     "exception": false,
     "start_time": "2022-06-01T07:36:32.384353",
     "status": "completed"
    },
    "tags": []
   },
   "outputs": [
    {
     "data": {
      "text/plain": [
       "category_name_1\n",
       "Mobiles & Tablets     2.062652e+09\n",
       "Appliances            5.796058e+08\n",
       "Entertainment         5.069271e+08\n",
       "Computing             1.734281e+08\n",
       "Women's Fashion       1.049944e+08\n",
       "Men's Fashion         8.370213e+07\n",
       "Others                6.497009e+07\n",
       "Beauty & Grooming     3.648696e+07\n",
       "Home & Living         2.997186e+07\n",
       "Superstore            2.662173e+07\n",
       "Health & Sports       1.784777e+07\n",
       "Kids & Baby           1.109623e+07\n",
       "Soghaat               1.000656e+07\n",
       "School & Education    1.676904e+06\n",
       "Books                 9.043140e+05\n",
       "Name: price, dtype: float64"
      ]
     },
     "execution_count": 30,
     "metadata": {},
     "output_type": "execute_result"
    }
   ],
   "source": [
    "profits=df[['category_name_1','price']].groupby(['category_name_1'])['price'].sum()\n",
    "profits.sort_values(ascending=False)"
   ]
  },
  {
   "cell_type": "code",
   "execution_count": 31,
   "id": "a29fd79c",
   "metadata": {
    "execution": {
     "iopub.execute_input": "2022-06-01T07:36:32.511689Z",
     "iopub.status.busy": "2022-06-01T07:36:32.510775Z",
     "iopub.status.idle": "2022-06-01T07:36:32.517467Z",
     "shell.execute_reply": "2022-06-01T07:36:32.516879Z"
    },
    "papermill": {
     "duration": 0.025407,
     "end_time": "2022-06-01T07:36:32.519232",
     "exception": false,
     "start_time": "2022-06-01T07:36:32.493825",
     "status": "completed"
    },
    "tags": []
   },
   "outputs": [
    {
     "data": {
      "text/plain": [
       "0           Women's Fashion\n",
       "1         Beauty & Grooming\n",
       "2           Women's Fashion\n",
       "3         Beauty & Grooming\n",
       "4                   Soghaat\n",
       "                ...        \n",
       "584519      Women's Fashion\n",
       "584520    Mobiles & Tablets\n",
       "584521    Mobiles & Tablets\n",
       "584522    Mobiles & Tablets\n",
       "584523    Mobiles & Tablets\n",
       "Name: category_name_1, Length: 584334, dtype: object"
      ]
     },
     "execution_count": 31,
     "metadata": {},
     "output_type": "execute_result"
    }
   ],
   "source": [
    "df['category_name_1']"
   ]
  },
  {
   "cell_type": "code",
   "execution_count": 32,
   "id": "c34c9431",
   "metadata": {
    "execution": {
     "iopub.execute_input": "2022-06-01T07:36:32.553446Z",
     "iopub.status.busy": "2022-06-01T07:36:32.552831Z",
     "iopub.status.idle": "2022-06-01T07:36:39.982621Z",
     "shell.execute_reply": "2022-06-01T07:36:39.981658Z"
    },
    "papermill": {
     "duration": 7.449593,
     "end_time": "2022-06-01T07:36:39.985068",
     "exception": false,
     "start_time": "2022-06-01T07:36:32.535475",
     "status": "completed"
    },
    "tags": []
   },
   "outputs": [
    {
     "data": {
      "image/png": "[encoded data removed]",
      "text/plain": [
       "<Figure size 432x288 with 1 Axes>"
      ]
     },
     "metadata": {
      "needs_background": "light"
     },
     "output_type": "display_data"
    }
   ],
   "source": [
    "bar= sns.barplot(x=df['category_name_1'],y=df['price'])\n",
    "bar.set_xticklabels(bar.get_xticklabels(), rotation=30, horizontalalignment='right')\n",
    "plt.show()"
   ]
  },
  {
   "cell_type": "code",
   "execution_count": 33,
   "id": "f70d63f7",
   "metadata": {
    "execution": {
     "iopub.execute_input": "2022-06-01T07:36:40.021589Z",
     "iopub.status.busy": "2022-06-01T07:36:40.021153Z",
     "iopub.status.idle": "2022-06-01T07:36:40.036611Z",
     "shell.execute_reply": "2022-06-01T07:36:40.035601Z"
    },
    "papermill": {
     "duration": 0.037005,
     "end_time": "2022-06-01T07:36:40.038684",
     "exception": false,
     "start_time": "2022-06-01T07:36:40.001679",
     "status": "completed"
    },
    "tags": []
   },
   "outputs": [
    {
     "data": {
      "text/plain": [
       "(9119,)"
      ]
     },
     "execution_count": 33,
     "metadata": {},
     "output_type": "execute_result"
    }
   ],
   "source": [
    "df['price'].unique().shape"
   ]
  },
  {
   "cell_type": "code",
   "execution_count": null,
   "id": "14636ca5",
   "metadata": {
    "papermill": {
     "duration": 0.016257,
     "end_time": "2022-06-01T07:36:40.071574",
     "exception": false,
     "start_time": "2022-06-01T07:36:40.055317",
     "status": "completed"
    },
    "tags": []
   },
   "outputs": [],
   "source": []
  }
 ],
 "metadata": {
  "kernelspec": {
   "display_name": "Python 3",
   "language": "python",
   "name": "python3"
  },
  "language_info": {
   "codemirror_mode": {
    "name": "ipython",
    "version": 3
   },
   "file_extension": ".py",
   "mimetype": "text/x-python",
   "name": "python",
   "nbconvert_exporter": "python",
   "pygments_lexer": "ipython3",
   "version": "3.7.12"
  },
  "papermill": {
   "default_parameters": {},
   "duration": 33.258059,
   "end_time": "2022-06-01T07:36:41.112587",
   "environment_variables": {},
   "exception": null,
   "input_path": "__notebook__.ipynb",
   "output_path": "__notebook__.ipynb",
   "parameters": {},
   "start_time": "2022-06-01T07:36:07.854528",
   "version": "2.3.4"
  }
 },
 "nbformat": 4,
 "nbformat_minor": 5
}
